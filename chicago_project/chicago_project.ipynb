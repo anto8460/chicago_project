{
 "cells": [
  {
   "cell_type": "code",
   "execution_count": null,
   "id": "853c4a53",
   "metadata": {},
   "outputs": [],
   "source": [
    "# Common imports\n",
    "import numpy as np\n",
    "import os\n",
    "\n",
    "# to make this notebook's output stable across runs\n",
    "np.random.seed(42)\n",
    "\n",
    "# To plot pretty figures\n",
    "%matplotlib inline\n",
    "import matplotlib as mpl\n",
    "import matplotlib.pyplot as plt\n",
    "mpl.rc('axes', labelsize=14)\n",
    "mpl.rc('xtick', labelsize=12)\n",
    "mpl.rc('ytick', labelsize=12)\n",
    "\n",
    "# Where to save the figures\n",
    "PROJECT_ROOT_DIR = \".\"\n",
    "CHAPTER_ID = \"end_to_end_project\"\n",
    "IMAGES_PATH = os.path.join(PROJECT_ROOT_DIR, \"images\", CHAPTER_ID)\n",
    "os.makedirs(IMAGES_PATH, exist_ok=True)\n",
    "\n",
    "def save_fig(fig_id, tight_layout=True, fig_extension=\"png\", resolution=300):\n",
    "    path = os.path.join(IMAGES_PATH, fig_id + \".\" + fig_extension)\n",
    "    print(\"Saving figure\", fig_id)\n",
    "    if tight_layout:\n",
    "        plt.tight_layout()\n",
    "    plt.savefig(path, format=fig_extension, dpi=resolution)"
   ]
  },
  {
   "cell_type": "code",
   "execution_count": null,
   "id": "a744c463",
   "metadata": {},
   "outputs": [],
   "source": [
    "import pandas as pd\n",
    "import os\n",
    "\n",
    "def load_police_data():\n",
    "    csv_path = os.path.join(os.path.join(\"police_data\"), \"crimes_2012_to_2017.csv\")\n",
    "    return pd.read_csv(csv_path, index_col=0)"
   ]
  },
  {
   "cell_type": "code",
   "execution_count": null,
   "id": "d5e27ea0",
   "metadata": {},
   "outputs": [],
   "source": [
    "police_data = load_police_data()\n",
    "police_data = police_data.loc[:, ~police_data.columns.str.contains('^Unnamed')]\n",
    "police_data = police_data.drop('Location', 1)\n",
    "police_data = police_data.drop('ID', 1)\n",
    "police_data = police_data.drop('Case Number', 1)\n",
    "police_data = police_data.drop('Block', 1)\n",
    "police_data = police_data.drop('Domestic', 1)\n",
    "police_data = police_data.drop('Beat', 1)\n",
    "police_data = police_data.drop('FBI Code', 1)\n",
    "police_data = police_data.drop('X Coordinate', 1)\n",
    "police_data = police_data.drop('Y Coordinate', 1)\n",
    "police_data = police_data.drop('Updated On', 1)\n",
    "police_data = police_data.drop('IUCR', 1)"
   ]
  },
  {
   "cell_type": "code",
   "execution_count": null,
   "id": "84de6a9e",
   "metadata": {},
   "outputs": [],
   "source": [
    "# Get names of indexes for which column Age has value 30\n",
    "indexNames = police_data[ police_data['Longitude'] > 90 ].index\n",
    "\n",
    "police_data.drop(indexNames , inplace=True)"
   ]
  },
  {
   "cell_type": "code",
   "execution_count": null,
   "id": "c94b9c8a",
   "metadata": {},
   "outputs": [],
   "source": [
    "# Get names of indexes for which column Age has value 30\n",
    "indexNames2 = police_data[ police_data['Latitude'] < 38 ].index \n",
    "\n",
    "police_data.drop(indexNames2 , inplace=True)"
   ]
  },
  {
   "cell_type": "code",
   "execution_count": null,
   "id": "2452818b",
   "metadata": {},
   "outputs": [],
   "source": [
    "police_data.head()"
   ]
  },
  {
   "cell_type": "code",
   "execution_count": null,
   "id": "2e325627",
   "metadata": {},
   "outputs": [],
   "source": [
    "police_data.info()"
   ]
  },
  {
   "cell_type": "code",
   "execution_count": null,
   "id": "d236275c",
   "metadata": {},
   "outputs": [],
   "source": [
    "pd.set_option('display.max_rows', 500)\n",
    "police_data[\"Location Description\"].value_counts()"
   ]
  },
  {
   "cell_type": "code",
   "execution_count": null,
   "id": "d716f060",
   "metadata": {},
   "outputs": [],
   "source": [
    "police_data[\"Date\"].value_counts()"
   ]
  },
  {
   "cell_type": "code",
   "execution_count": null,
   "id": "eb204dba",
   "metadata": {},
   "outputs": [],
   "source": [
    "police_data[\"Arrest\"].value_counts()"
   ]
  },
  {
   "cell_type": "code",
   "execution_count": null,
   "id": "db3b38f9",
   "metadata": {},
   "outputs": [],
   "source": [
    "police_data[\"Primary Type\"].value_counts()"
   ]
  },
  {
   "cell_type": "code",
   "execution_count": null,
   "id": "1532e2de",
   "metadata": {},
   "outputs": [],
   "source": [
    "police_data[\"Description\"].value_counts()"
   ]
  },
  {
   "cell_type": "code",
   "execution_count": null,
   "id": "81559680",
   "metadata": {},
   "outputs": [],
   "source": [
    "police_data[\"District\"].value_counts()"
   ]
  },
  {
   "cell_type": "code",
   "execution_count": null,
   "id": "e9b192bc",
   "metadata": {},
   "outputs": [],
   "source": [
    "police_data[\"Community Area\"].value_counts()"
   ]
  },
  {
   "cell_type": "code",
   "execution_count": null,
   "id": "8bdd4f1e",
   "metadata": {},
   "outputs": [],
   "source": []
  },
  {
   "cell_type": "code",
   "execution_count": null,
   "id": "74371261",
   "metadata": {},
   "outputs": [],
   "source": [
    "police_data.describe()"
   ]
  },
  {
   "cell_type": "code",
   "execution_count": null,
   "id": "1327c97f",
   "metadata": {},
   "outputs": [],
   "source": [
    "%matplotlib inline\n",
    "import matplotlib.pyplot as plt\n",
    "police_data.hist(bins=50, figsize=(20,15))\n",
    "save_fig(\"attribute_histogram_plots\")\n",
    "plt.show()"
   ]
  },
  {
   "cell_type": "code",
   "execution_count": null,
   "id": "c6627d2e",
   "metadata": {},
   "outputs": [],
   "source": [
    "# to make this notebook's output identical at every run\n",
    "np.random.seed(42)"
   ]
  },
  {
   "cell_type": "code",
   "execution_count": null,
   "id": "55193998",
   "metadata": {},
   "outputs": [],
   "source": [
    "import numpy as np\n",
    "\n",
    "# For illustration only. Sklearn has train_test_split()\n",
    "def split_train_test(data, test_ratio):\n",
    "    shuffled_indices = np.random.permutation(len(data))\n",
    "    test_set_size = int(len(data) * test_ratio)\n",
    "    test_indices = shuffled_indices[:test_set_size]\n",
    "    train_indices = shuffled_indices[test_set_size:]\n",
    "    return data.iloc[train_indices], data.iloc[test_indices]"
   ]
  },
  {
   "cell_type": "code",
   "execution_count": null,
   "id": "5433a262",
   "metadata": {},
   "outputs": [],
   "source": [
    "train_set, test_set = split_train_test(police_data, 0.2)\n",
    "print(len(train_set), \"train +\", len(test_set), \"test\")"
   ]
  },
  {
   "cell_type": "code",
   "execution_count": null,
   "id": "d4dcc868",
   "metadata": {},
   "outputs": [],
   "source": [
    "from zlib import crc32\n",
    "\n",
    "def test_set_check(identifier, test_ratio):\n",
    "    return crc32(np.int64(identifier)) & 0xffffffff < test_ratio * 2**32\n",
    "\n",
    "def split_train_test_by_id(data, test_ratio, id_column):\n",
    "    ids = data[id_column]\n",
    "    in_test_set = ids.apply(lambda id_: test_set_check(id_, test_ratio))\n",
    "    return data.loc[~in_test_set], data.loc[in_test_set]"
   ]
  },
  {
   "cell_type": "code",
   "execution_count": null,
   "id": "2ee0d8c8",
   "metadata": {},
   "outputs": [],
   "source": [
    "import hashlib\n",
    "\n",
    "def test_set_check(identifier, test_ratio, hash=hashlib.md5):\n",
    "    return hash(np.int64(identifier)).digest()[-1] < 256 * test_ratio"
   ]
  },
  {
   "cell_type": "code",
   "execution_count": null,
   "id": "a352a470",
   "metadata": {},
   "outputs": [],
   "source": [
    "crime_with_id = police_data.reset_index()   # adds an `index` column\n",
    "train_set, test_set = split_train_test_by_id(crime_with_id, 0.2, \"index\")"
   ]
  },
  {
   "cell_type": "code",
   "execution_count": null,
   "id": "13a85bcd",
   "metadata": {},
   "outputs": [],
   "source": [
    "# police_data = pd.DataFrame(police_data)\n",
    "# police_data = police_data.apply(pd.to_numeric, errors='coerce')\n",
    "# police_data = police_data.dropna()\n",
    "# police_data = police_data.dropna(axis=0, subset=['Longitude'])\n",
    "# police_data = police_data.dropna(axis=0, subset=['Latitude'])"
   ]
  },
  {
   "cell_type": "code",
   "execution_count": null,
   "id": "11be42cc",
   "metadata": {},
   "outputs": [],
   "source": [
    "# crime_with_id[\"id\"] = police_data[\"Longitude\"] * 1000 + police_data[\"Latitude\"]\n",
    "# pd.set_option('display.max_rows', 50)\n",
    "# crime_with_id[\"id\"]\n",
    "# police_data[\"Longitude\"]\n",
    "# police_data[\"Latitude\"]\n",
    "# train_set, test_set = split_train_test_by_id(crime_with_id, 0.2, \"id\")"
   ]
  },
  {
   "cell_type": "code",
   "execution_count": null,
   "id": "e88dfd2a",
   "metadata": {},
   "outputs": [],
   "source": [
    "police_data.head()"
   ]
  },
  {
   "cell_type": "code",
   "execution_count": null,
   "id": "1b9331e1",
   "metadata": {},
   "outputs": [],
   "source": [
    "from sklearn.model_selection import train_test_split\n",
    "\n",
    "train_set, test_set = train_test_split(police_data, test_size=0.2, random_state=42)"
   ]
  },
  {
   "cell_type": "code",
   "execution_count": null,
   "id": "dc6e6aa8",
   "metadata": {},
   "outputs": [],
   "source": [
    "test_set.head()\n"
   ]
  },
  {
   "cell_type": "code",
   "execution_count": null,
   "id": "ccd0e6db",
   "metadata": {},
   "outputs": [],
   "source": [
    "# police_data['District'] = police_data['District'].astype(int)\n",
    "police_data[\"District\"].hist()\n",
    "# police_data['Arrest']"
   ]
  },
  {
   "cell_type": "code",
   "execution_count": null,
   "id": "d0bebeda",
   "metadata": {},
   "outputs": [],
   "source": [
    "police_data[\"Ward\"].hist()"
   ]
  },
  {
   "cell_type": "code",
   "execution_count": null,
   "id": "7b5eab87",
   "metadata": {},
   "outputs": [],
   "source": [
    "police_data[\"Community Area\"].hist()"
   ]
  },
  {
   "cell_type": "code",
   "execution_count": null,
   "id": "99fe5d33",
   "metadata": {},
   "outputs": [],
   "source": [
    "police_data.plot(kind=\"scatter\", x=\"Longitude\", y=\"Latitude\")\n",
    "save_fig(\"bad_visualization_plot\")"
   ]
  }
 ],
 "metadata": {
  "kernelspec": {
   "display_name": "Python 3 (ipykernel)",
   "language": "python",
   "name": "python3"
  },
  "language_info": {
   "codemirror_mode": {
    "name": "ipython",
    "version": 3
   },
   "file_extension": ".py",
   "mimetype": "text/x-python",
   "name": "python",
   "nbconvert_exporter": "python",
   "pygments_lexer": "ipython3",
   "version": "3.9.1"
  }
 },
 "nbformat": 4,
 "nbformat_minor": 5
}
