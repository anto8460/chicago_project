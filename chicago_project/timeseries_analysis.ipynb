{
 "cells": [
  {
   "cell_type": "code",
   "execution_count": 36,
   "metadata": {},
   "outputs": [],
   "source": [
    "# Common imports\n",
    "import numpy as np\n",
    "import os\n",
    "\n",
    "# to make this notebook's output stable across runs\n",
    "np.random.seed(42)\n",
    "\n",
    "# To plot pretty figures\n",
    "%matplotlib inline\n",
    "import matplotlib as mpl\n",
    "import matplotlib.pyplot as plt\n",
    "mpl.rc('axes', labelsize=14)\n",
    "mpl.rc('xtick', labelsize=12)\n",
    "mpl.rc('ytick', labelsize=12)\n",
    "\n",
    "# Where to save the figures\n",
    "PROJECT_ROOT_DIR = \".\"\n",
    "CHAPTER_ID = \"end_to_end_project\"\n",
    "IMAGES_PATH = os.path.join(PROJECT_ROOT_DIR, \"images\", CHAPTER_ID)\n",
    "os.makedirs(IMAGES_PATH, exist_ok=True)\n",
    "\n",
    "def save_fig(fig_id, tight_layout=True, fig_extension=\"png\", resolution=300):\n",
    "    path = os.path.join(IMAGES_PATH, fig_id + \".\" + fig_extension)\n",
    "    print(\"Saving figure\", fig_id)\n",
    "    if tight_layout:\n",
    "        plt.tight_layout()\n",
    "    plt.savefig(path, format=fig_extension, dpi=resolution)"
   ]
  },
  {
   "cell_type": "code",
   "execution_count": 37,
   "metadata": {},
   "outputs": [],
   "source": [
    "import pandas as pd\n",
    "import os\n",
    "\n",
    "def load_police_data():\n",
    "    csv_path = os.path.join(os.path.join(\"police_data\"), \"crimes_2012_to_2017.csv\")\n",
    "    return pd.read_csv(csv_path, index_col=0)"
   ]
  },
  {
   "cell_type": "code",
   "execution_count": 38,
   "metadata": {},
   "outputs": [],
   "source": [
    "police_data = load_police_data()"
   ]
  },
  {
   "cell_type": "code",
   "execution_count": 39,
   "metadata": {},
   "outputs": [
    {
     "data": {
      "text/html": [
       "<div>\n",
       "<style scoped>\n",
       "    .dataframe tbody tr th:only-of-type {\n",
       "        vertical-align: middle;\n",
       "    }\n",
       "\n",
       "    .dataframe tbody tr th {\n",
       "        vertical-align: top;\n",
       "    }\n",
       "\n",
       "    .dataframe thead th {\n",
       "        text-align: right;\n",
       "    }\n",
       "</style>\n",
       "<table border=\"1\" class=\"dataframe\">\n",
       "  <thead>\n",
       "    <tr style=\"text-align: right;\">\n",
       "      <th></th>\n",
       "      <th>ID</th>\n",
       "      <th>Case Number</th>\n",
       "      <th>Date</th>\n",
       "      <th>Block</th>\n",
       "      <th>IUCR</th>\n",
       "      <th>Primary Type</th>\n",
       "      <th>Description</th>\n",
       "      <th>Location Description</th>\n",
       "      <th>Arrest</th>\n",
       "      <th>Domestic</th>\n",
       "      <th>...</th>\n",
       "      <th>Ward</th>\n",
       "      <th>Community Area</th>\n",
       "      <th>FBI Code</th>\n",
       "      <th>X Coordinate</th>\n",
       "      <th>Y Coordinate</th>\n",
       "      <th>Year</th>\n",
       "      <th>Updated On</th>\n",
       "      <th>Latitude</th>\n",
       "      <th>Longitude</th>\n",
       "      <th>Location</th>\n",
       "    </tr>\n",
       "  </thead>\n",
       "  <tbody>\n",
       "    <tr>\n",
       "      <th>6253257</th>\n",
       "      <td>10508690</td>\n",
       "      <td>HZ250370</td>\n",
       "      <td>05/03/2016 09:07:00 PM</td>\n",
       "      <td>082XX S EXCHANGE AVE</td>\n",
       "      <td>0486</td>\n",
       "      <td>BATTERY</td>\n",
       "      <td>DOMESTIC BATTERY SIMPLE</td>\n",
       "      <td>SIDEWALK</td>\n",
       "      <td>False</td>\n",
       "      <td>True</td>\n",
       "      <td>...</td>\n",
       "      <td>7.0</td>\n",
       "      <td>46.0</td>\n",
       "      <td>08B</td>\n",
       "      <td>1197261.0</td>\n",
       "      <td>1850727.0</td>\n",
       "      <td>2016</td>\n",
       "      <td>05/10/2016 03:56:50 PM</td>\n",
       "      <td>41.745252</td>\n",
       "      <td>-87.552773</td>\n",
       "      <td>(41.745251975, -87.552773464)</td>\n",
       "    </tr>\n",
       "    <tr>\n",
       "      <th>6253474</th>\n",
       "      <td>10508692</td>\n",
       "      <td>HZ250517</td>\n",
       "      <td>05/03/2016 11:38:00 PM</td>\n",
       "      <td>001XX E 75TH ST</td>\n",
       "      <td>5007</td>\n",
       "      <td>OTHER OFFENSE</td>\n",
       "      <td>OTHER WEAPONS VIOLATION</td>\n",
       "      <td>PARKING LOT/GARAGE(NON.RESID.)</td>\n",
       "      <td>True</td>\n",
       "      <td>False</td>\n",
       "      <td>...</td>\n",
       "      <td>6.0</td>\n",
       "      <td>69.0</td>\n",
       "      <td>26</td>\n",
       "      <td>1178696.0</td>\n",
       "      <td>1855324.0</td>\n",
       "      <td>2016</td>\n",
       "      <td>05/10/2016 03:56:50 PM</td>\n",
       "      <td>41.758309</td>\n",
       "      <td>-87.620658</td>\n",
       "      <td>(41.75830866, -87.620658418)</td>\n",
       "    </tr>\n",
       "  </tbody>\n",
       "</table>\n",
       "<p>2 rows × 22 columns</p>\n",
       "</div>"
      ],
      "text/plain": [
       "               ID Case Number                    Date                 Block  \\\n",
       "6253257  10508690    HZ250370  05/03/2016 09:07:00 PM  082XX S EXCHANGE AVE   \n",
       "6253474  10508692    HZ250517  05/03/2016 11:38:00 PM       001XX E 75TH ST   \n",
       "\n",
       "         IUCR   Primary Type              Description  \\\n",
       "6253257  0486        BATTERY  DOMESTIC BATTERY SIMPLE   \n",
       "6253474  5007  OTHER OFFENSE  OTHER WEAPONS VIOLATION   \n",
       "\n",
       "                   Location Description  Arrest  Domestic  ...  Ward  \\\n",
       "6253257                        SIDEWALK   False      True  ...   7.0   \n",
       "6253474  PARKING LOT/GARAGE(NON.RESID.)    True     False  ...   6.0   \n",
       "\n",
       "         Community Area  FBI Code  X Coordinate Y Coordinate  Year  \\\n",
       "6253257            46.0       08B     1197261.0    1850727.0  2016   \n",
       "6253474            69.0        26     1178696.0    1855324.0  2016   \n",
       "\n",
       "                     Updated On   Latitude  Longitude  \\\n",
       "6253257  05/10/2016 03:56:50 PM  41.745252 -87.552773   \n",
       "6253474  05/10/2016 03:56:50 PM  41.758309 -87.620658   \n",
       "\n",
       "                              Location  \n",
       "6253257  (41.745251975, -87.552773464)  \n",
       "6253474   (41.75830866, -87.620658418)  \n",
       "\n",
       "[2 rows x 22 columns]"
      ]
     },
     "execution_count": 39,
     "metadata": {},
     "output_type": "execute_result"
    }
   ],
   "source": [
    "police_data.tail(2)"
   ]
  },
  {
   "cell_type": "code",
   "execution_count": 40,
   "metadata": {},
   "outputs": [],
   "source": [
    "police_data = police_data.drop(columns='Location')\n",
    "police_data = police_data.drop(columns='ID')\n",
    "police_data = police_data.drop(columns='Case Number')\n",
    "police_data = police_data.drop(columns='Block')\n",
    "police_data = police_data.drop(columns='Beat')\n",
    "police_data = police_data.drop(columns='X Coordinate')\n",
    "police_data = police_data.drop(columns='Y Coordinate')\n",
    "police_data = police_data.drop(columns='Updated On')\n",
    "police_data = police_data.drop(columns='Description')\n",
    "police_data = police_data.drop(columns='Location Description')\n"
   ]
  },
  {
   "cell_type": "code",
   "execution_count": 41,
   "metadata": {},
   "outputs": [],
   "source": [
    "# A lot (X50) faster when we provide the format\n",
    "police_data['Date'] = pd.to_datetime(police_data['Date'], format='%m/%d/%Y %I:%M:%S %p')"
   ]
  },
  {
   "cell_type": "code",
   "execution_count": 42,
   "metadata": {},
   "outputs": [
    {
     "data": {
      "text/html": [
       "<div>\n",
       "<style scoped>\n",
       "    .dataframe tbody tr th:only-of-type {\n",
       "        vertical-align: middle;\n",
       "    }\n",
       "\n",
       "    .dataframe tbody tr th {\n",
       "        vertical-align: top;\n",
       "    }\n",
       "\n",
       "    .dataframe thead th {\n",
       "        text-align: right;\n",
       "    }\n",
       "</style>\n",
       "<table border=\"1\" class=\"dataframe\">\n",
       "  <thead>\n",
       "    <tr style=\"text-align: right;\">\n",
       "      <th></th>\n",
       "      <th>Date</th>\n",
       "      <th>IUCR</th>\n",
       "      <th>Primary Type</th>\n",
       "      <th>Arrest</th>\n",
       "      <th>Domestic</th>\n",
       "      <th>District</th>\n",
       "      <th>Ward</th>\n",
       "      <th>Community Area</th>\n",
       "      <th>FBI Code</th>\n",
       "      <th>Year</th>\n",
       "      <th>Latitude</th>\n",
       "      <th>Longitude</th>\n",
       "    </tr>\n",
       "  </thead>\n",
       "  <tbody>\n",
       "    <tr>\n",
       "      <th>6253257</th>\n",
       "      <td>2016-05-03 21:07:00</td>\n",
       "      <td>0486</td>\n",
       "      <td>BATTERY</td>\n",
       "      <td>False</td>\n",
       "      <td>True</td>\n",
       "      <td>4.0</td>\n",
       "      <td>7.0</td>\n",
       "      <td>46.0</td>\n",
       "      <td>08B</td>\n",
       "      <td>2016</td>\n",
       "      <td>41.745252</td>\n",
       "      <td>-87.552773</td>\n",
       "    </tr>\n",
       "    <tr>\n",
       "      <th>6253474</th>\n",
       "      <td>2016-05-03 23:38:00</td>\n",
       "      <td>5007</td>\n",
       "      <td>OTHER OFFENSE</td>\n",
       "      <td>True</td>\n",
       "      <td>False</td>\n",
       "      <td>3.0</td>\n",
       "      <td>6.0</td>\n",
       "      <td>69.0</td>\n",
       "      <td>26</td>\n",
       "      <td>2016</td>\n",
       "      <td>41.758309</td>\n",
       "      <td>-87.620658</td>\n",
       "    </tr>\n",
       "  </tbody>\n",
       "</table>\n",
       "</div>"
      ],
      "text/plain": [
       "                       Date  IUCR   Primary Type  Arrest  Domestic  District  \\\n",
       "6253257 2016-05-03 21:07:00  0486        BATTERY   False      True       4.0   \n",
       "6253474 2016-05-03 23:38:00  5007  OTHER OFFENSE    True     False       3.0   \n",
       "\n",
       "         Ward  Community Area FBI Code  Year   Latitude  Longitude  \n",
       "6253257   7.0            46.0      08B  2016  41.745252 -87.552773  \n",
       "6253474   6.0            69.0       26  2016  41.758309 -87.620658  "
      ]
     },
     "execution_count": 42,
     "metadata": {},
     "output_type": "execute_result"
    }
   ],
   "source": [
    "police_data.tail(2)"
   ]
  },
  {
   "cell_type": "code",
   "execution_count": 43,
   "metadata": {},
   "outputs": [
    {
     "data": {
      "text/plain": [
       "(1419591, 12)"
      ]
     },
     "execution_count": 43,
     "metadata": {},
     "output_type": "execute_result"
    }
   ],
   "source": [
    "police_data= police_data.dropna()\n",
    "police_data.shape"
   ]
  },
  {
   "cell_type": "code",
   "execution_count": 44,
   "metadata": {},
   "outputs": [
    {
     "data": {
      "text/html": [
       "<div>\n",
       "<style scoped>\n",
       "    .dataframe tbody tr th:only-of-type {\n",
       "        vertical-align: middle;\n",
       "    }\n",
       "\n",
       "    .dataframe tbody tr th {\n",
       "        vertical-align: top;\n",
       "    }\n",
       "\n",
       "    .dataframe thead th {\n",
       "        text-align: right;\n",
       "    }\n",
       "</style>\n",
       "<table border=\"1\" class=\"dataframe\">\n",
       "  <thead>\n",
       "    <tr style=\"text-align: right;\">\n",
       "      <th></th>\n",
       "      <th>IUCR</th>\n",
       "      <th>Primary Type</th>\n",
       "      <th>Arrest</th>\n",
       "      <th>Domestic</th>\n",
       "      <th>District</th>\n",
       "      <th>Ward</th>\n",
       "      <th>Community Area</th>\n",
       "      <th>FBI Code</th>\n",
       "      <th>Year</th>\n",
       "      <th>Latitude</th>\n",
       "      <th>Longitude</th>\n",
       "    </tr>\n",
       "    <tr>\n",
       "      <th>Date</th>\n",
       "      <th></th>\n",
       "      <th></th>\n",
       "      <th></th>\n",
       "      <th></th>\n",
       "      <th></th>\n",
       "      <th></th>\n",
       "      <th></th>\n",
       "      <th></th>\n",
       "      <th></th>\n",
       "      <th></th>\n",
       "      <th></th>\n",
       "    </tr>\n",
       "  </thead>\n",
       "  <tbody>\n",
       "    <tr>\n",
       "      <th>2016-05-03 23:40:00</th>\n",
       "      <td>0486</td>\n",
       "      <td>BATTERY</td>\n",
       "      <td>True</td>\n",
       "      <td>True</td>\n",
       "      <td>10.0</td>\n",
       "      <td>24.0</td>\n",
       "      <td>29.0</td>\n",
       "      <td>08B</td>\n",
       "      <td>2016</td>\n",
       "      <td>41.864073</td>\n",
       "      <td>-87.706819</td>\n",
       "    </tr>\n",
       "    <tr>\n",
       "      <th>2016-05-03 21:40:00</th>\n",
       "      <td>0486</td>\n",
       "      <td>BATTERY</td>\n",
       "      <td>False</td>\n",
       "      <td>True</td>\n",
       "      <td>3.0</td>\n",
       "      <td>20.0</td>\n",
       "      <td>42.0</td>\n",
       "      <td>08B</td>\n",
       "      <td>2016</td>\n",
       "      <td>41.782922</td>\n",
       "      <td>-87.604363</td>\n",
       "    </tr>\n",
       "  </tbody>\n",
       "</table>\n",
       "</div>"
      ],
      "text/plain": [
       "                     IUCR Primary Type  Arrest  Domestic  District  Ward  \\\n",
       "Date                                                                       \n",
       "2016-05-03 23:40:00  0486      BATTERY    True      True      10.0  24.0   \n",
       "2016-05-03 21:40:00  0486      BATTERY   False      True       3.0  20.0   \n",
       "\n",
       "                     Community Area FBI Code  Year   Latitude  Longitude  \n",
       "Date                                                                      \n",
       "2016-05-03 23:40:00            29.0      08B  2016  41.864073 -87.706819  \n",
       "2016-05-03 21:40:00            42.0      08B  2016  41.782922 -87.604363  "
      ]
     },
     "execution_count": 44,
     "metadata": {},
     "output_type": "execute_result"
    }
   ],
   "source": [
    "# Set datetime as index, will not remove duplicates (verify_integrity=True would remove duplicates)\n",
    "police_data = police_data.set_index('Date')\n",
    "police_data.head(2)"
   ]
  },
  {
   "cell_type": "code",
   "execution_count": 45,
   "metadata": {},
   "outputs": [
    {
     "data": {
      "text/html": [
       "<div>\n",
       "<style scoped>\n",
       "    .dataframe tbody tr th:only-of-type {\n",
       "        vertical-align: middle;\n",
       "    }\n",
       "\n",
       "    .dataframe tbody tr th {\n",
       "        vertical-align: top;\n",
       "    }\n",
       "\n",
       "    .dataframe thead th {\n",
       "        text-align: right;\n",
       "    }\n",
       "</style>\n",
       "<table border=\"1\" class=\"dataframe\">\n",
       "  <thead>\n",
       "    <tr style=\"text-align: right;\">\n",
       "      <th></th>\n",
       "      <th>IUCR</th>\n",
       "      <th>Primary Type</th>\n",
       "      <th>Arrest</th>\n",
       "      <th>Domestic</th>\n",
       "      <th>District</th>\n",
       "      <th>Ward</th>\n",
       "      <th>Community Area</th>\n",
       "      <th>FBI Code</th>\n",
       "      <th>Year</th>\n",
       "      <th>Latitude</th>\n",
       "      <th>Longitude</th>\n",
       "      <th>Month</th>\n",
       "      <th>Day of the Year</th>\n",
       "    </tr>\n",
       "    <tr>\n",
       "      <th>Date</th>\n",
       "      <th></th>\n",
       "      <th></th>\n",
       "      <th></th>\n",
       "      <th></th>\n",
       "      <th></th>\n",
       "      <th></th>\n",
       "      <th></th>\n",
       "      <th></th>\n",
       "      <th></th>\n",
       "      <th></th>\n",
       "      <th></th>\n",
       "      <th></th>\n",
       "      <th></th>\n",
       "    </tr>\n",
       "  </thead>\n",
       "  <tbody>\n",
       "    <tr>\n",
       "      <th>2016-05-03 23:40:00</th>\n",
       "      <td>0486</td>\n",
       "      <td>BATTERY</td>\n",
       "      <td>True</td>\n",
       "      <td>True</td>\n",
       "      <td>10.0</td>\n",
       "      <td>24.0</td>\n",
       "      <td>29.0</td>\n",
       "      <td>08B</td>\n",
       "      <td>2016</td>\n",
       "      <td>41.864073</td>\n",
       "      <td>-87.706819</td>\n",
       "      <td>5</td>\n",
       "      <td>124</td>\n",
       "    </tr>\n",
       "  </tbody>\n",
       "</table>\n",
       "</div>"
      ],
      "text/plain": [
       "                     IUCR Primary Type  Arrest  Domestic  District  Ward  \\\n",
       "Date                                                                       \n",
       "2016-05-03 23:40:00  0486      BATTERY    True      True      10.0  24.0   \n",
       "\n",
       "                     Community Area FBI Code  Year   Latitude  Longitude  \\\n",
       "Date                                                                       \n",
       "2016-05-03 23:40:00            29.0      08B  2016  41.864073 -87.706819   \n",
       "\n",
       "                     Month  Day of the Year  \n",
       "Date                                         \n",
       "2016-05-03 23:40:00      5              124  "
      ]
     },
     "execution_count": 45,
     "metadata": {},
     "output_type": "execute_result"
    }
   ],
   "source": [
    "# Add columns with year, month, and weekday name\n",
    "police_data['Year'] = police_data.index.year\n",
    "police_data['Month'] = police_data.index.month\n",
    "police_data['Day of the Year'] = police_data.index.day_of_year\n",
    "police_data.head(1)\n"
   ]
  },
  {
   "cell_type": "code",
   "execution_count": 64,
   "metadata": {},
   "outputs": [
    {
     "data": {
      "text/plain": [
       "<AxesSubplot:xlabel='Date'>"
      ]
     },
     "execution_count": 64,
     "metadata": {},
     "output_type": "execute_result"
    },
    {
     "data": {
      "image/png": "[encoded data removed]",
      "text/plain": [
       "<Figure size 432x288 with 1 Axes>"
      ]
     },
     "metadata": {
      "needs_background": "light"
     },
     "output_type": "display_data"
    }
   ],
   "source": [
    "police_data.resample('1M').count().plot(marker = 'o', linestyle='-', linewidth=0.5, legend=False)"
   ]
  }
 ],
 "metadata": {
  "interpreter": {
   "hash": "d7e46d99e01c961ea20dca271d41290a63367fdf2c88b833a3969cbb74164eca"
  },
  "kernelspec": {
   "display_name": "Python 3.9.12 ('.venv': venv)",
   "language": "python",
   "name": "python3"
  },
  "language_info": {
   "codemirror_mode": {
    "name": "ipython",
    "version": 3
   },
   "file_extension": ".py",
   "mimetype": "text/x-python",
   "name": "python",
   "nbconvert_exporter": "python",
   "pygments_lexer": "ipython3",
   "version": "3.9.12"
  },
  "orig_nbformat": 4
 },
 "nbformat": 4,
 "nbformat_minor": 2
}
